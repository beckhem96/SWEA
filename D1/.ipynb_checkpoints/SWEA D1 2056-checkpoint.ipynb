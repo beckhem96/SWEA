{
 "cells": [
  {
   "cell_type": "code",
   "execution_count": 34,
   "metadata": {},
   "outputs": [
    {
     "name": "stdout",
     "output_type": "stream",
     "text": [
      "5\n",
      "22220228\n",
      "#1 2222/02/28\n",
      "20150002\n",
      "2 -1\n",
      "01010101\n",
      "#3 0101/01/01\n",
      "20140230\n",
      "4 -1\n",
      "11111111\n",
      "#5 1111/11/11\n"
     ]
    }
   ],
   "source": [
    "T = int(input())\n",
    "# 여러개의 테스트 케이스가 주어지므로, 각각을 처리합니다.\n",
    "for test_case in range(1, T + 1):\n",
    "    # ///////////////////////////////////////////////////////////////////////////////////\n",
    "    date_init = input()\n",
    "    year = int(date_init[:4])\n",
    "    month = int(date_init[4:6])\n",
    "    day = int(date_init[6:])\n",
    "    if year > 0 and year <= 9999:\n",
    "\n",
    "        if month == 1 or month == 3 or month == 5 or month == 7 or month == 8 or month == 10 or month == 12:\n",
    "            if day >=1 and day <= 31:\n",
    "                print(f'#{test_case} {str(0) * (4 - len(str(year)))}{year}/{str(0) * (2 - len(str(month)))}{month}/{str(0) * (2 - len(str(day)))}{day}')\n",
    "            else:\n",
    "                print(f'{test_case} -1')\n",
    "\n",
    "        elif month == 4 or month == 6 or month == 9 or month == 11:\n",
    "            if day >=1 and day <= 30:\n",
    "                print(f'#{test_case} {str(0) * (4 - len(str(year)))}{year}/{str(0) * (2 - len(str(month)))}{month}/{str(0) * (2 - len(str(day)))}{day}')\n",
    "            else:\n",
    "                print(f'{test_case} -1')\n",
    "\n",
    "        elif month == 2:\n",
    "            if day >=1 and day <= 28:\n",
    "                print(f'#{test_case} {str(0) * (4 - len(str(year)))}{year}/{str(0) * (2 - len(str(month)))}{month}/{str(0) * (2 - len(str(day)))}{day}')\n",
    "            else:\n",
    "                print(f'{test_case} -1')\n",
    "        else:\n",
    "            print(f'{test_case} -1')"
   ]
  }
 ],
 "metadata": {
  "kernelspec": {
   "display_name": "Python 3",
   "language": "python",
   "name": "python3"
  },
  "language_info": {
   "codemirror_mode": {
    "name": "ipython",
    "version": 3
   },
   "file_extension": ".py",
   "mimetype": "text/x-python",
   "name": "python",
   "nbconvert_exporter": "python",
   "pygments_lexer": "ipython3",
   "version": "3.7.4"
  },
  "toc": {
   "base_numbering": 1,
   "nav_menu": {},
   "number_sections": true,
   "sideBar": true,
   "skip_h1_title": false,
   "title_cell": "Table of Contents",
   "title_sidebar": "Contents",
   "toc_cell": false,
   "toc_position": {},
   "toc_section_display": true,
   "toc_window_display": false
  }
 },
 "nbformat": 4,
 "nbformat_minor": 2
}
