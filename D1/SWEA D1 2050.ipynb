{
 "cells": [
  {
   "cell_type": "code",
   "execution_count": 61,
   "metadata": {},
   "outputs": [
    {
     "name": "stdout",
     "output_type": "stream",
     "text": [
      "ABCDEFGHIJKLMNOPQRSTUVWXYZ\n",
      "1 2 3 4 5 6 7 8 9 10 11 12 13 14 15 16 17 18 19 20 21 22 23 24 25 26 "
     ]
    }
   ],
   "source": [
    "abc_list = input()\n",
    "\n",
    "i = 1\n",
    "abc_num = {}\n",
    "if len(abc_list) <= 200:\n",
    "    for one_abc in abc_list:\n",
    "        if i < 27:\n",
    "            abc_num[one_abc] = i\n",
    "            i += 1\n",
    "#        if i == (len(abc_list)+1):              # SWEA 제출할떄 마지막에 스페이스바 때매 fail 되서 추가한 조건\n",
    "  #          print(int(abc_num[one_abc]), end='') \n",
    "    #    else:\n",
    "        print((abc_num[one_abc]), end=' ') # 왜 fail이지..."
   ]
  }
 ],
 "metadata": {
  "kernelspec": {
   "display_name": "Python 3",
   "language": "python",
   "name": "python3"
  },
  "language_info": {
   "codemirror_mode": {
    "name": "ipython",
    "version": 3
   },
   "file_extension": ".py",
   "mimetype": "text/x-python",
   "name": "python",
   "nbconvert_exporter": "python",
   "pygments_lexer": "ipython3",
   "version": "3.7.4"
  },
  "toc": {
   "base_numbering": 1,
   "nav_menu": {},
   "number_sections": true,
   "sideBar": true,
   "skip_h1_title": false,
   "title_cell": "Table of Contents",
   "title_sidebar": "Contents",
   "toc_cell": false,
   "toc_position": {},
   "toc_section_display": true,
   "toc_window_display": false
  }
 },
 "nbformat": 4,
 "nbformat_minor": 2
}
